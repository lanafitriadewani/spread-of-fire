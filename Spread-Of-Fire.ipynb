{
  "nbformat": 4,
  "nbformat_minor": 0,
  "metadata": {
    "colab": {
      "provenance": []
    },
    "kernelspec": {
      "name": "python3",
      "display_name": "Python 3"
    },
    "language_info": {
      "name": "python"
    }
  },
  "cells": [
    {
      "cell_type": "code",
      "execution_count": null,
      "metadata": {
        "id": "5pcj1QV9-60_"
      },
      "outputs": [],
      "source": [
        "# Deklarasi library yang akan digunakan\n",
        "import numpy as np\n",
        "import matplotlib\n",
        "import matplotlib.pyplot as plt\n",
        "import matplotlib.image as mpimg\n",
        "from math import *\n",
        "from random import *"
      ]
    },
    {
      "cell_type": "code",
      "source": [
        "# Global Variabel\n",
        "global TREE, BURNING\n",
        "TREE = 1\n",
        "BURNING = 2"
      ],
      "metadata": {
        "id": "lA7cyULKCPz4"
      },
      "execution_count": null,
      "outputs": []
    },
    {
      "cell_type": "code",
      "source": [
        "# Fungsi untuk menginisialisasi kondisi hutan awal\n",
        "def initForest(n):\n",
        "    forest = np.full((n, n), TREE)  # Inisialisasi semua sel sebagai pohon\n",
        "    middle = n // 2\n",
        "    forest[middle, middle] = BURNING  # Hanya satu pohon yang terbakar di tengah\n",
        "    return forest"
      ],
      "metadata": {
        "id": "KgX7gGgyGcgg"
      },
      "execution_count": null,
      "outputs": []
    },
    {
      "cell_type": "code",
      "source": [
        "# Fungsi untuk memvisualisasikan hutan ke dalam bentuk grid menggunakan warna RGB\n",
        "def makeColorGrid(grid):\n",
        "    n = grid.shape[0]\n",
        "    colorGrid = np.zeros((n, n, 3))\n",
        "    colorGrid[:, :, 0] = 1\n",
        "    colorGrid[:, :, 1] = 1\n",
        "    for i in range(0, n):\n",
        "        for j in range(0, n):\n",
        "            if (grid[i, j] == TREE):\n",
        "                colorGrid[i, j, 0] = 0.1\n",
        "                colorGrid[i, j, 1] = 0.75\n",
        "                colorGrid[i, j, 2] = 0.02\n",
        "            if (grid[i, j] == BURNING):\n",
        "                colorGrid[i, j, 0] = 0.6\n",
        "                colorGrid[i, j, 1] = 0.2\n",
        "                colorGrid[i, j, 2] = 0.1\n",
        "    return colorGrid"
      ],
      "metadata": {
        "id": "hT3CKNKPT9ns"
      },
      "execution_count": null,
      "outputs": []
    },
    {
      "cell_type": "code",
      "source": [
        "# Fungsi untuk memperluas grid hutan\n",
        "def reflectingLat(lat):\n",
        "    latNS = np.row_stack((lat[-1], lat, lat[0]))\n",
        "    return np.column_stack((latNS[:,-1], latNS, latNS[:,0]))"
      ],
      "metadata": {
        "id": "UyFQcX6NPwNO"
      },
      "execution_count": null,
      "outputs": []
    },
    {
      "cell_type": "code",
      "source": [
        "# Fungsi untuk memvisualisasikan hutan denan matplotlib\n",
        "fig = plt.figure()\n",
        "plt.axis('off')\n",
        "n = 17\n",
        "im = plt.imshow(makeColorGrid(initForest(n)))"
      ],
      "metadata": {
        "colab": {
          "base_uri": "https://localhost:8080/",
          "height": 406
        },
        "id": "phu1J1eiOyxc",
        "outputId": "f8ecef72-7fe0-492d-d575-336ef04328c2"
      },
      "execution_count": null,
      "outputs": [
        {
          "output_type": "display_data",
          "data": {
            "text/plain": [
              "<Figure size 640x480 with 1 Axes>"
            ],
            "image/png": "[encoded data removed]"
          },
          "metadata": {}
        }
      ]
    },
    {
      "cell_type": "code",
      "source": [
        "# Fungsi untuk menyatakan keadaan sel yang mewakili pohon berdasarkan sekitarnya\n",
        "def spread(site, N, E, S, W, burnProbability):\n",
        "    newSite = site\n",
        "    if site == TREE and (N == BURNING or E == BURNING or S == BURNING or W == BURNING):\n",
        "        if random() < burnProbability:\n",
        "          newSite = BURNING\n",
        "        else:\n",
        "          newSite = TREE\n",
        "    return newSite"
      ],
      "metadata": {
        "id": "QyH4yIhNHVyk"
      },
      "execution_count": null,
      "outputs": []
    },
    {
      "cell_type": "code",
      "source": [
        "# Fungsi untuk menerapkan 'rules' penyebaran pembakaran\n",
        "def applyExtended(latExt, burnProbability):\n",
        "    n = latExt.shape[0] - 2\n",
        "    newLat = np.zeros((n, n))\n",
        "\n",
        "    for i in range(1, n + 1):\n",
        "        for j in range(1, n + 1):\n",
        "            site = latExt[i, j]\n",
        "            N = latExt[i - 1, j]\n",
        "            E = latExt[i, j + 1]\n",
        "            S = latExt[i + 1, j]\n",
        "            W = latExt[i, j - 1]\n",
        "            newLat[i - 1, j - 1] = spread(site, N, E, S, W, burnProbability)\n",
        "    return newLat"
      ],
      "metadata": {
        "id": "FJvgV5p8PxQL"
      },
      "execution_count": null,
      "outputs": []
    },
    {
      "cell_type": "code",
      "source": [
        "# Fungsi untuk mensimulasikan kebakaran hutan\n",
        "def fire(n, burnProbability, t):\n",
        "    forest  = initForest(n)\n",
        "\n",
        "    grids = np.zeros((t + 1, n, n))\n",
        "    grids[0, :, :] = forest\n",
        "    for i in range(1, t + 1):\n",
        "        forestExtended = reflectingLat(forest)\n",
        "        forest = applyExtended(forestExtended, burnProbability)\n",
        "        grids[i, :, :] = forest\n",
        "    return grids[t]"
      ],
      "metadata": {
        "id": "8zDFO6NNnOGR"
      },
      "execution_count": null,
      "outputs": []
    },
    {
      "cell_type": "code",
      "source": [
        "# Fungsi untuk menghitung persentase pohon yang terbakar di hutan\n",
        "def percentBurn(grid):\n",
        "    n = grid.shape[0]\n",
        "    count = 0\n",
        "    for i in range(0, n):\n",
        "      for j in range(0, n):\n",
        "        if (grid[i][j] == 2):\n",
        "          count += 1\n",
        "    percent = count / (n * n)\n",
        "    print(\"Presentase hutan yang terbakar: {:.5f}%\".format(percent))\n",
        "    return percent * 100"
      ],
      "metadata": {
        "id": "ENNfFO30nTCc"
      },
      "execution_count": null,
      "outputs": []
    },
    {
      "cell_type": "code",
      "source": [
        "# Fungsi untuk melakukan beberapa percobaan pembakaran hutan untuk mendapatkan persentase rata-rata pembakaran hutan\n",
        "def experiment(n):\n",
        "    average_list = []\n",
        "    for i in range(1, 10):\n",
        "      percent_total = 0\n",
        "      for j in range(n):\n",
        "        grid = fire(17, i/10, 10)\n",
        "        if (j == 1):\n",
        "          fig = plt.figure()\n",
        "          plt.axis('off')\n",
        "          im = plt.imshow(makeColorGrid(grid))\n",
        "        percent_total += percentBurn(grid)\n",
        "      average_list.append(percent_total / 10)\n",
        "    return average_list\n",
        "\n",
        "# Fungsi untuk menampilkan hasil percobaan dengan probabilitas 0,1 hingga 0,9\n",
        "result = experiment(10)\n",
        "prob = [0.1, 0.2, 0.3, 0.4, 0.5, 0.6, 0.7, 0.8, 0.9]\n"
      ],
      "metadata": {
        "id": "f-PnqmGonXsE",
        "colab": {
          "base_uri": "https://localhost:8080/",
          "height": 1000
        },
        "outputId": "a309f009-7982-45c3-9e0a-2e6ce835a949"
      },
      "execution_count": null,
      "outputs": [
        {
          "output_type": "stream",
          "name": "stdout",
          "text": [
            "Presentase hutan yang terbakar: 0.03114%\n",
            "Presentase hutan yang terbakar: 0.02076%\n",
            "Presentase hutan yang terbakar: 0.01730%\n",
            "Presentase hutan yang terbakar: 0.04152%\n",
            "Presentase hutan yang terbakar: 0.01730%\n",
            "Presentase hutan yang terbakar: 0.01384%\n",
            "Presentase hutan yang terbakar: 0.01730%\n",
            "Presentase hutan yang terbakar: 0.02422%\n",
            "Presentase hutan yang terbakar: 0.07266%\n",
            "Presentase hutan yang terbakar: 0.03114%\n",
            "Presentase hutan yang terbakar: 0.06920%\n",
            "Presentase hutan yang terbakar: 0.10381%\n",
            "Presentase hutan yang terbakar: 0.11073%\n",
            "Presentase hutan yang terbakar: 0.09689%\n",
            "Presentase hutan yang terbakar: 0.06920%\n",
            "Presentase hutan yang terbakar: 0.04498%\n",
            "Presentase hutan yang terbakar: 0.06228%\n",
            "Presentase hutan yang terbakar: 0.06574%\n",
            "Presentase hutan yang terbakar: 0.11419%\n",
            "Presentase hutan yang terbakar: 0.07612%\n",
            "Presentase hutan yang terbakar: 0.18339%\n",
            "Presentase hutan yang terbakar: 0.13495%\n",
            "Presentase hutan yang terbakar: 0.07612%\n",
            "Presentase hutan yang terbakar: 0.19377%\n",
            "Presentase hutan yang terbakar: 0.21799%\n",
            "Presentase hutan yang terbakar: 0.13841%\n",
            "Presentase hutan yang terbakar: 0.19723%\n",
            "Presentase hutan yang terbakar: 0.16955%\n",
            "Presentase hutan yang terbakar: 0.12803%\n",
            "Presentase hutan yang terbakar: 0.14187%\n",
            "Presentase hutan yang terbakar: 0.27336%\n",
            "Presentase hutan yang terbakar: 0.31834%\n",
            "Presentase hutan yang terbakar: 0.32526%\n",
            "Presentase hutan yang terbakar: 0.25606%\n",
            "Presentase hutan yang terbakar: 0.24567%\n",
            "Presentase hutan yang terbakar: 0.28028%\n",
            "Presentase hutan yang terbakar: 0.24221%\n",
            "Presentase hutan yang terbakar: 0.22491%\n",
            "Presentase hutan yang terbakar: 0.27336%\n",
            "Presentase hutan yang terbakar: 0.28374%\n",
            "Presentase hutan yang terbakar: 0.34602%\n",
            "Presentase hutan yang terbakar: 0.29758%\n",
            "Presentase hutan yang terbakar: 0.37716%\n",
            "Presentase hutan yang terbakar: 0.39446%\n",
            "Presentase hutan yang terbakar: 0.40484%\n",
            "Presentase hutan yang terbakar: 0.35986%\n",
            "Presentase hutan yang terbakar: 0.30104%\n",
            "Presentase hutan yang terbakar: 0.32526%\n",
            "Presentase hutan yang terbakar: 0.30450%\n",
            "Presentase hutan yang terbakar: 0.28028%\n",
            "Presentase hutan yang terbakar: 0.49135%\n",
            "Presentase hutan yang terbakar: 0.39792%\n",
            "Presentase hutan yang terbakar: 0.47405%\n",
            "Presentase hutan yang terbakar: 0.49481%\n",
            "Presentase hutan yang terbakar: 0.47751%\n",
            "Presentase hutan yang terbakar: 0.48443%\n",
            "Presentase hutan yang terbakar: 0.53633%\n",
            "Presentase hutan yang terbakar: 0.52595%\n",
            "Presentase hutan yang terbakar: 0.42215%\n",
            "Presentase hutan yang terbakar: 0.43945%\n",
            "Presentase hutan yang terbakar: 0.51211%\n",
            "Presentase hutan yang terbakar: 0.59516%\n",
            "Presentase hutan yang terbakar: 0.55709%\n",
            "Presentase hutan yang terbakar: 0.55709%\n",
            "Presentase hutan yang terbakar: 0.58478%\n",
            "Presentase hutan yang terbakar: 0.55017%\n",
            "Presentase hutan yang terbakar: 0.60900%\n",
            "Presentase hutan yang terbakar: 0.59170%\n",
            "Presentase hutan yang terbakar: 0.52941%\n",
            "Presentase hutan yang terbakar: 0.60900%\n",
            "Presentase hutan yang terbakar: 0.64360%\n",
            "Presentase hutan yang terbakar: 0.61938%\n",
            "Presentase hutan yang terbakar: 0.63668%\n",
            "Presentase hutan yang terbakar: 0.65744%\n",
            "Presentase hutan yang terbakar: 0.67820%\n",
            "Presentase hutan yang terbakar: 0.68512%\n",
            "Presentase hutan yang terbakar: 0.64706%\n",
            "Presentase hutan yang terbakar: 0.66090%\n",
            "Presentase hutan yang terbakar: 0.67128%\n",
            "Presentase hutan yang terbakar: 0.64706%\n",
            "Presentase hutan yang terbakar: 0.69550%\n",
            "Presentase hutan yang terbakar: 0.70242%\n",
            "Presentase hutan yang terbakar: 0.68512%\n",
            "Presentase hutan yang terbakar: 0.69896%\n",
            "Presentase hutan yang terbakar: 0.68512%\n",
            "Presentase hutan yang terbakar: 0.69204%\n",
            "Presentase hutan yang terbakar: 0.69550%\n",
            "Presentase hutan yang terbakar: 0.68512%\n",
            "Presentase hutan yang terbakar: 0.69204%\n",
            "Presentase hutan yang terbakar: 0.69550%\n"
          ]
        },
        {
          "output_type": "display_data",
          "data": {
            "text/plain": [
              "<Figure size 640x480 with 1 Axes>"
            ],
            "image/png": "[encoded data removed]"
          },
          "metadata": {}
        },
        {
          "output_type": "display_data",
          "data": {
            "text/plain": [
              "<Figure size 640x480 with 1 Axes>"
            ],
            "image/png": "[encoded data removed]"
          },
          "metadata": {}
        },
        {
          "output_type": "display_data",
          "data": {
            "text/plain": [
              "<Figure size 640x480 with 1 Axes>"
            ],
            "image/png": "[encoded data removed]"
          },
          "metadata": {}
        },
        {
          "output_type": "display_data",
          "data": {
            "text/plain": [
              "<Figure size 640x480 with 1 Axes>"
            ],
            "image/png": "[encoded data removed]"
          },
          "metadata": {}
        },
        {
          "output_type": "display_data",
          "data": {
            "text/plain": [
              "<Figure size 640x480 with 1 Axes>"
            ],
            "image/png": "[encoded data removed]"
          },
          "metadata": {}
        },
        {
          "output_type": "display_data",
          "data": {
            "text/plain": [
              "<Figure size 640x480 with 1 Axes>"
            ],
            "image/png": "[encoded data removed]"
          },
          "metadata": {}
        },
        {
          "output_type": "display_data",
          "data": {
            "text/plain": [
              "<Figure size 640x480 with 1 Axes>"
            ],
            "image/png": "[encoded data removed]"
          },
          "metadata": {}
        },
        {
          "output_type": "display_data",
          "data": {
            "text/plain": [
              "<Figure size 640x480 with 1 Axes>"
            ],
            "image/png": "[encoded data removed]"
          },
          "metadata": {}
        },
        {
          "output_type": "display_data",
          "data": {
            "text/plain": [
              "<Figure size 640x480 with 1 Axes>"
            ],
            "image/png": "[encoded data removed]"
          },
          "metadata": {}
        }
      ]
    },
    {
      "cell_type": "code",
      "source": [
        "print(len(prob))  # Untuk memeriksa panjang prob\n",
        "print(len(result))  # Untuk memeriksa panjang result\n",
        "\n",
        "# Membuat scatter plot\n",
        "plt.scatter(prob, result)\n",
        "\n",
        "# Menambahkan label dan judul\n",
        "plt.xlabel('Probabilitas Kebakaran')\n",
        "plt.ylabel('Persentase Rata-rata Terbakar')\n",
        "plt.title('Scatter Plot Probabilitas')\n",
        "\n",
        "# Menampilkan plot\n",
        "plt.show()"
      ],
      "metadata": {
        "colab": {
          "base_uri": "https://localhost:8080/",
          "height": 507
        },
        "id": "mH_Zs4pLnqKQ",
        "outputId": "1f811d7e-4e06-42f0-8c11-80a60810b2e9"
      },
      "execution_count": null,
      "outputs": [
        {
          "output_type": "stream",
          "name": "stdout",
          "text": [
            "9\n",
            "9\n"
          ]
        },
        {
          "output_type": "display_data",
          "data": {
            "text/plain": [
              "<Figure size 640x480 with 1 Axes>"
            ],
            "image/png": "[encoded data removed]"
          },
          "metadata": {}
        }
      ]
    },
    {
      "cell_type": "code",
      "source": [
        "# Menampilkan rata-rata presentase terbakar untuk tiap probabilitas\n",
        "for prob_value, average_list in zip(prob, result):\n",
        "    print(\"Probabilitas: {} - Rata-rata Presentase Terbakar: {:.5f} %\".format(prob_value, average_list/100))"
      ],
      "metadata": {
        "colab": {
          "base_uri": "https://localhost:8080/"
        },
        "id": "c2vYUK5T8bLO",
        "outputId": "fc917ab2-ca4d-4cc4-932e-68e70391b213"
      },
      "execution_count": null,
      "outputs": [
        {
          "output_type": "stream",
          "name": "stdout",
          "text": [
            "Probabilitas: 0.1 - Rata-rata Presentase Terbakar: 0.02872 %\n",
            "Probabilitas: 0.2 - Rata-rata Presentase Terbakar: 0.08131 %\n",
            "Probabilitas: 0.3 - Rata-rata Presentase Terbakar: 0.15813 %\n",
            "Probabilitas: 0.4 - Rata-rata Presentase Terbakar: 0.27232 %\n",
            "Probabilitas: 0.5 - Rata-rata Presentase Terbakar: 0.33910 %\n",
            "Probabilitas: 0.6 - Rata-rata Presentase Terbakar: 0.47439 %\n",
            "Probabilitas: 0.7 - Rata-rata Presentase Terbakar: 0.56955 %\n",
            "Probabilitas: 0.8 - Rata-rata Presentase Terbakar: 0.65467 %\n",
            "Probabilitas: 0.9 - Rata-rata Presentase Terbakar: 0.69273 %\n"
          ]
        }
      ]
    }
  ]
}