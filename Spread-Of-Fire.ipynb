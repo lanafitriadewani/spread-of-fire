{
  "nbformat": 4,
  "nbformat_minor": 0,
  "metadata": {
    "colab": {
      "provenance": []
    },
    "kernelspec": {
      "name": "python3",
      "display_name": "Python 3"
    },
    "language_info": {
      "name": "python"
    }
  },
  "cells": [
    {
      "cell_type": "code",
      "execution_count": 416,
      "metadata": {
        "id": "5pcj1QV9-60_"
      },
      "outputs": [],
      "source": [
        "# Declare libraries that will be used in the spreading fire project (ada beda)\n",
        "import numpy as np\n",
        "import matplotlib\n",
        "import matplotlib.pyplot as plt\n",
        "import matplotlib.image as mpimg\n",
        "from math import *\n",
        "from random import *"
      ]
    },
    {
      "cell_type": "code",
      "source": [
        "# Declare global variable that will be used in some functions\n",
        "global TREE, BURNING\n",
        "TREE = 1\n",
        "BURNING = 2"
      ],
      "metadata": {
        "id": "lA7cyULKCPz4"
      },
      "execution_count": 417,
      "outputs": []
    },
    {
      "cell_type": "code",
      "source": [
        "# Define function to initialize forest (ada beda)\n",
        "def initForest(n):\n",
        "    forest = np.full((n, n), TREE)  # Inisialisasi semua sel sebagai pohon\n",
        "    middle = n // 2\n",
        "    forest[middle, middle] = BURNING  # Hanya satu pohon yang terbakar di tengah\n",
        "    return forest"
      ],
      "metadata": {
        "id": "KgX7gGgyGcgg"
      },
      "execution_count": 418,
      "outputs": []
    },
    {
      "cell_type": "code",
      "source": [
        "# Define function to visualize the grid that represents the forest with RGB colour\n",
        "def makeColorGrid(grid):\n",
        "    n = grid.shape[0]\n",
        "    colorGrid = np.zeros((n, n, 3))\n",
        "    colorGrid[:, :, 0] = 1\n",
        "    colorGrid[:, :, 1] = 1\n",
        "    for i in range(0, n):\n",
        "        for j in range(0, n):\n",
        "            if (grid[i, j] == TREE):\n",
        "                colorGrid[i, j, 0] = 0.1\n",
        "                colorGrid[i, j, 1] = 0.75\n",
        "                colorGrid[i, j, 2] = 0.02\n",
        "            if (grid[i, j] == BURNING):\n",
        "                colorGrid[i, j, 0] = 0.6\n",
        "                colorGrid[i, j, 1] = 0.2\n",
        "                colorGrid[i, j, 2] = 0.1\n",
        "    return colorGrid"
      ],
      "metadata": {
        "id": "hT3CKNKPT9ns"
      },
      "execution_count": 419,
      "outputs": []
    },
    {
      "cell_type": "code",
      "source": [
        "# Define function to widden the grid that represents the forest\n",
        "def reflectingLat(lat):\n",
        "    latNS = np.row_stack((lat[-1], lat, lat[0]))\n",
        "    return np.column_stack((latNS[:,-1], latNS, latNS[:,0]))"
      ],
      "metadata": {
        "id": "UyFQcX6NPwNO"
      },
      "execution_count": 420,
      "outputs": []
    },
    {
      "cell_type": "code",
      "source": [
        "# Define function to visualize forest with matplotlib (ada beda)\n",
        "fig = plt.figure()\n",
        "plt.axis('off')\n",
        "n = 17\n",
        "im = plt.imshow(makeColorGrid(initForest(n)))"
      ],
      "metadata": {
        "colab": {
          "base_uri": "https://localhost:8080/",
          "height": 406
        },
        "id": "phu1J1eiOyxc",
        "outputId": "2e56ec37-0f32-4f29-c4f3-c2b4f425d226"
      },
      "execution_count": 421,
      "outputs": [
        {
          "output_type": "display_data",
          "data": {
            "text/plain": [
              "<Figure size 640x480 with 1 Axes>"
            ],
            "image/png": "[encoded data removed]"
          },
          "metadata": {}
        }
      ]
    },
    {
      "cell_type": "code",
      "source": [
        "# Define function to state a situation of a cell based on its surrounding (ada beda)\n",
        "def spread(site, N, E, S, W, burnProbability):\n",
        "    newSite = site\n",
        "    if site == TREE and (N == BURNING or E == BURNING or S == BURNING or W == BURNING):\n",
        "        if random() < burnProbability:\n",
        "          newSite = BURNING\n",
        "        else:\n",
        "          newSite = TREE\n",
        "    return newSite"
      ],
      "metadata": {
        "id": "QyH4yIhNHVyk"
      },
      "execution_count": 422,
      "outputs": []
    },
    {
      "cell_type": "code",
      "source": [
        "# Define function to apply the rules of burn on the widder grid\n",
        "def applyExtended(latExt, burnProbability):\n",
        "    n = latExt.shape[0] - 2\n",
        "    newLat = np.zeros((n, n))\n",
        "\n",
        "    for i in range(1, n + 1):\n",
        "        for j in range(1, n + 1):\n",
        "            site = latExt[i, j]\n",
        "            N = latExt[i - 1, j]\n",
        "            E = latExt[i, j + 1]\n",
        "            S = latExt[i + 1, j]\n",
        "            W = latExt[i, j - 1]\n",
        "            newLat[i - 1, j - 1] = spread(site, N, E, S, W, burnProbability)\n",
        "    return newLat"
      ],
      "metadata": {
        "id": "FJvgV5p8PxQL"
      },
      "execution_count": 423,
      "outputs": []
    },
    {
      "cell_type": "code",
      "source": [
        "# Define function to simulate of the burning forest\n",
        "def fire(n, burnProbability, t):\n",
        "    forest  = initForest(n)\n",
        "\n",
        "    # Perform simulation\n",
        "    grids = np.zeros((t + 1, n, n))\n",
        "    grids[0, :, :] = forest\n",
        "    for i in range(1, t + 1):\n",
        "        forestExtended = reflectingLat(forest)\n",
        "        forest = applyExtended(forestExtended, burnProbability)\n",
        "        grids[i, :, :] = forest\n",
        "    return grids[t]"
      ],
      "metadata": {
        "id": "8zDFO6NNnOGR"
      },
      "execution_count": 424,
      "outputs": []
    },
    {
      "cell_type": "code",
      "source": [
        "# Define function to calculate the percentage of the trees burning in the forest\n",
        "def percentBurn(grid):\n",
        "    n = grid.shape[0]\n",
        "    count = 0\n",
        "    for i in range(0, n):\n",
        "      for j in range(0, n):\n",
        "        if (grid[i][j] == 2):\n",
        "          count += 1\n",
        "    percent = count / (n * n)\n",
        "    print(\"Presentase hutan yang terbakar: {:.5f}%\".format(percent))\n",
        "    return percent * 100"
      ],
      "metadata": {
        "id": "ENNfFO30nTCc"
      },
      "execution_count": 425,
      "outputs": []
    },
    {
      "cell_type": "code",
      "source": [
        "# Define function to do several experiments of the burning forest to get an average percentage of the burning forest\n",
        "def experiment(n):\n",
        "    average_list = []\n",
        "    for i in range(1, 10):\n",
        "      percent_total = 0\n",
        "      for j in range(n):\n",
        "        grid = fire(17, i/10, 10)\n",
        "        if (j == 1):\n",
        "          fig = plt.figure()\n",
        "          plt.axis('off')\n",
        "          im = plt.imshow(makeColorGrid(grid))\n",
        "        percent_total += percentBurn(grid)\n",
        "        # average_percent = percent_total / n\n",
        "      average_list.append(percent_total / 10)\n",
        "    return average_list\n",
        "\n",
        "# Define function to display the result of the experiment with the probability from 0.1 to 0.9\n",
        "result = experiment(10)\n",
        "prob = [0.1, 0.2, 0.3, 0.4, 0.5, 0.6, 0.7, 0.8, 0.9]\n"
      ],
      "metadata": {
        "id": "f-PnqmGonXsE",
        "colab": {
          "base_uri": "https://localhost:8080/",
          "height": 1000
        },
        "outputId": "9e60b882-2ab3-483f-820f-c0b9abd37a89"
      },
      "execution_count": 426,
      "outputs": [
        {
          "output_type": "stream",
          "name": "stdout",
          "text": [
            "Presentase hutan yang terbakar: 0.03806%\n",
            "Presentase hutan yang terbakar: 0.03114%\n",
            "Presentase hutan yang terbakar: 0.02422%\n",
            "Presentase hutan yang terbakar: 0.02422%\n",
            "Presentase hutan yang terbakar: 0.04498%\n",
            "Presentase hutan yang terbakar: 0.05536%\n",
            "Presentase hutan yang terbakar: 0.01730%\n",
            "Presentase hutan yang terbakar: 0.01384%\n",
            "Presentase hutan yang terbakar: 0.03806%\n",
            "Presentase hutan yang terbakar: 0.02076%\n",
            "Presentase hutan yang terbakar: 0.10727%\n",
            "Presentase hutan yang terbakar: 0.12111%\n",
            "Presentase hutan yang terbakar: 0.14187%\n",
            "Presentase hutan yang terbakar: 0.09343%\n",
            "Presentase hutan yang terbakar: 0.03460%\n",
            "Presentase hutan yang terbakar: 0.08651%\n",
            "Presentase hutan yang terbakar: 0.12111%\n",
            "Presentase hutan yang terbakar: 0.10381%\n",
            "Presentase hutan yang terbakar: 0.10727%\n",
            "Presentase hutan yang terbakar: 0.04498%\n",
            "Presentase hutan yang terbakar: 0.17301%\n",
            "Presentase hutan yang terbakar: 0.20069%\n",
            "Presentase hutan yang terbakar: 0.18685%\n",
            "Presentase hutan yang terbakar: 0.15917%\n",
            "Presentase hutan yang terbakar: 0.16263%\n",
            "Presentase hutan yang terbakar: 0.14879%\n",
            "Presentase hutan yang terbakar: 0.19031%\n",
            "Presentase hutan yang terbakar: 0.16609%\n",
            "Presentase hutan yang terbakar: 0.17993%\n",
            "Presentase hutan yang terbakar: 0.14533%\n",
            "Presentase hutan yang terbakar: 0.23529%\n",
            "Presentase hutan yang terbakar: 0.23529%\n",
            "Presentase hutan yang terbakar: 0.25606%\n",
            "Presentase hutan yang terbakar: 0.26990%\n",
            "Presentase hutan yang terbakar: 0.24913%\n",
            "Presentase hutan yang terbakar: 0.26298%\n",
            "Presentase hutan yang terbakar: 0.31142%\n",
            "Presentase hutan yang terbakar: 0.25606%\n",
            "Presentase hutan yang terbakar: 0.23529%\n",
            "Presentase hutan yang terbakar: 0.22837%\n",
            "Presentase hutan yang terbakar: 0.35986%\n",
            "Presentase hutan yang terbakar: 0.36678%\n",
            "Presentase hutan yang terbakar: 0.36332%\n",
            "Presentase hutan yang terbakar: 0.37716%\n",
            "Presentase hutan yang terbakar: 0.38408%\n",
            "Presentase hutan yang terbakar: 0.37024%\n",
            "Presentase hutan yang terbakar: 0.42561%\n",
            "Presentase hutan yang terbakar: 0.39100%\n",
            "Presentase hutan yang terbakar: 0.35986%\n",
            "Presentase hutan yang terbakar: 0.40830%\n",
            "Presentase hutan yang terbakar: 0.52941%\n",
            "Presentase hutan yang terbakar: 0.43253%\n",
            "Presentase hutan yang terbakar: 0.43945%\n",
            "Presentase hutan yang terbakar: 0.52595%\n",
            "Presentase hutan yang terbakar: 0.50865%\n",
            "Presentase hutan yang terbakar: 0.43253%\n",
            "Presentase hutan yang terbakar: 0.57093%\n",
            "Presentase hutan yang terbakar: 0.42561%\n",
            "Presentase hutan yang terbakar: 0.46713%\n",
            "Presentase hutan yang terbakar: 0.33910%\n",
            "Presentase hutan yang terbakar: 0.54671%\n",
            "Presentase hutan yang terbakar: 0.56401%\n",
            "Presentase hutan yang terbakar: 0.55017%\n",
            "Presentase hutan yang terbakar: 0.58824%\n",
            "Presentase hutan yang terbakar: 0.49135%\n",
            "Presentase hutan yang terbakar: 0.59516%\n",
            "Presentase hutan yang terbakar: 0.49827%\n",
            "Presentase hutan yang terbakar: 0.59170%\n",
            "Presentase hutan yang terbakar: 0.63668%\n",
            "Presentase hutan yang terbakar: 0.59516%\n",
            "Presentase hutan yang terbakar: 0.64360%\n",
            "Presentase hutan yang terbakar: 0.67474%\n",
            "Presentase hutan yang terbakar: 0.66782%\n",
            "Presentase hutan yang terbakar: 0.67128%\n",
            "Presentase hutan yang terbakar: 0.65398%\n",
            "Presentase hutan yang terbakar: 0.66436%\n",
            "Presentase hutan yang terbakar: 0.68512%\n",
            "Presentase hutan yang terbakar: 0.65744%\n",
            "Presentase hutan yang terbakar: 0.63322%\n",
            "Presentase hutan yang terbakar: 0.65744%\n",
            "Presentase hutan yang terbakar: 0.68858%\n",
            "Presentase hutan yang terbakar: 0.69204%\n",
            "Presentase hutan yang terbakar: 0.69550%\n",
            "Presentase hutan yang terbakar: 0.69550%\n",
            "Presentase hutan yang terbakar: 0.69896%\n",
            "Presentase hutan yang terbakar: 0.68166%\n",
            "Presentase hutan yang terbakar: 0.69550%\n",
            "Presentase hutan yang terbakar: 0.69550%\n",
            "Presentase hutan yang terbakar: 0.69896%\n",
            "Presentase hutan yang terbakar: 0.69896%\n"
          ]
        },
        {
          "output_type": "display_data",
          "data": {
            "text/plain": [
              "<Figure size 640x480 with 1 Axes>"
            ],
            "image/png": "[encoded data removed]"
          },
          "metadata": {}
        },
        {
          "output_type": "display_data",
          "data": {
            "text/plain": [
              "<Figure size 640x480 with 1 Axes>"
            ],
            "image/png": "[encoded data removed]"
          },
          "metadata": {}
        },
        {
          "output_type": "display_data",
          "data": {
            "text/plain": [
              "<Figure size 640x480 with 1 Axes>"
            ],
            "image/png": "[encoded data removed]"
          },
          "metadata": {}
        },
        {
          "output_type": "display_data",
          "data": {
            "text/plain": [
              "<Figure size 640x480 with 1 Axes>"
            ],
            "image/png": "[encoded data removed]"
          },
          "metadata": {}
        },
        {
          "output_type": "display_data",
          "data": {
            "text/plain": [
              "<Figure size 640x480 with 1 Axes>"
            ],
            "image/png": "[encoded data removed]"
          },
          "metadata": {}
        },
        {
          "output_type": "display_data",
          "data": {
            "text/plain": [
              "<Figure size 640x480 with 1 Axes>"
            ],
            "image/png": "[encoded data removed]"
          },
          "metadata": {}
        },
        {
          "output_type": "display_data",
          "data": {
            "text/plain": [
              "<Figure size 640x480 with 1 Axes>"
            ],
            "image/png": "[encoded data removed]"
          },
          "metadata": {}
        },
        {
          "output_type": "display_data",
          "data": {
            "text/plain": [
              "<Figure size 640x480 with 1 Axes>"
            ],
            "image/png": "[encoded data removed]"
          },
          "metadata": {}
        },
        {
          "output_type": "display_data",
          "data": {
            "text/plain": [
              "<Figure size 640x480 with 1 Axes>"
            ],
            "image/png": "[encoded data removed]"
          },
          "metadata": {}
        }
      ]
    },
    {
      "cell_type": "code",
      "source": [
        "print(len(prob))  # Untuk memeriksa panjang prob\n",
        "print(len(result))  # Untuk memeriksa panjang result\n",
        "\n",
        "# Plotting the scatter plot\n",
        "plt.scatter(prob, result)\n",
        "\n",
        "# Adding labels and title\n",
        "plt.xlabel('Burn Probability')\n",
        "plt.ylabel('Average Percentage Burned')\n",
        "plt.title('Scatter Plot Probability')\n",
        "\n",
        "# Display the plot\n",
        "plt.show()"
      ],
      "metadata": {
        "colab": {
          "base_uri": "https://localhost:8080/",
          "height": 507
        },
        "id": "mH_Zs4pLnqKQ",
        "outputId": "759a8a50-a62e-4219-9b81-a3fa59d42d3d"
      },
      "execution_count": 427,
      "outputs": [
        {
          "output_type": "stream",
          "name": "stdout",
          "text": [
            "9\n",
            "9\n"
          ]
        },
        {
          "output_type": "display_data",
          "data": {
            "text/plain": [
              "<Figure size 640x480 with 1 Axes>"
            ],
            "image/png": "[encoded data removed]"
          },
          "metadata": {}
        }
      ]
    },
    {
      "cell_type": "code",
      "source": [
        "for prob_value, average_list in zip(prob, result):\n",
        "    print(\"Probabilitas: {} - Rata-rata Presentase Terbakar: {:.5f} %\".format(prob_value, average_list/100))"
      ],
      "metadata": {
        "colab": {
          "base_uri": "https://localhost:8080/"
        },
        "id": "c2vYUK5T8bLO",
        "outputId": "152859e2-6443-4972-98f4-6744c279988a"
      },
      "execution_count": 428,
      "outputs": [
        {
          "output_type": "stream",
          "name": "stdout",
          "text": [
            "Probabilitas: 0.1 - Rata-rata Presentase Terbakar: 0.03080 %\n",
            "Probabilitas: 0.2 - Rata-rata Presentase Terbakar: 0.09619 %\n",
            "Probabilitas: 0.3 - Rata-rata Presentase Terbakar: 0.17128 %\n",
            "Probabilitas: 0.4 - Rata-rata Presentase Terbakar: 0.25398 %\n",
            "Probabilitas: 0.5 - Rata-rata Presentase Terbakar: 0.38062 %\n",
            "Probabilitas: 0.6 - Rata-rata Presentase Terbakar: 0.46713 %\n",
            "Probabilitas: 0.7 - Rata-rata Presentase Terbakar: 0.56574 %\n",
            "Probabilitas: 0.8 - Rata-rata Presentase Terbakar: 0.66090 %\n",
            "Probabilitas: 0.9 - Rata-rata Presentase Terbakar: 0.69412 %\n"
          ]
        }
      ]
    }
  ]
}